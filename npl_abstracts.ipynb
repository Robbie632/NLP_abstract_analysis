{
 "cells": [
  {
   "cell_type": "markdown",
   "metadata": {},
   "source": [
    "## anlysing paper abstracts using NLP"
   ]
  },
  {
   "cell_type": "code",
   "execution_count": 1,
   "metadata": {},
   "outputs": [
    {
     "name": "stdout",
     "output_type": "stream",
     "text": [
      "Requirement already satisfied: wordcloud in c:\\users\\rmorse\\anaconda3\\lib\\site-packages (1.8.0)\n",
      "Requirement already satisfied: matplotlib in c:\\users\\rmorse\\anaconda3\\lib\\site-packages (from wordcloud) (3.1.3)\n",
      "Requirement already satisfied: numpy>=1.6.1 in c:\\users\\rmorse\\anaconda3\\lib\\site-packages (from wordcloud) (1.18.1)\n",
      "Requirement already satisfied: pillow in c:\\users\\rmorse\\anaconda3\\lib\\site-packages (from wordcloud) (7.0.0)\n",
      "Requirement already satisfied: pyparsing!=2.0.4,!=2.1.2,!=2.1.6,>=2.0.1 in c:\\users\\rmorse\\anaconda3\\lib\\site-packages (from matplotlib->wordcloud) (2.4.6)\n",
      "Requirement already satisfied: cycler>=0.10 in c:\\users\\rmorse\\anaconda3\\lib\\site-packages (from matplotlib->wordcloud) (0.10.0)\n",
      "Requirement already satisfied: kiwisolver>=1.0.1 in c:\\users\\rmorse\\anaconda3\\lib\\site-packages (from matplotlib->wordcloud) (1.1.0)\n",
      "Requirement already satisfied: python-dateutil>=2.1 in c:\\users\\rmorse\\anaconda3\\lib\\site-packages (from matplotlib->wordcloud) (2.8.1)\n",
      "Requirement already satisfied: six in c:\\users\\rmorse\\anaconda3\\lib\\site-packages (from cycler>=0.10->matplotlib->wordcloud) (1.14.0)\n",
      "Requirement already satisfied: setuptools in c:\\users\\rmorse\\anaconda3\\lib\\site-packages (from kiwisolver>=1.0.1->matplotlib->wordcloud) (45.2.0.post20200210)\n"
     ]
    }
   ],
   "source": [
    "!pip install wordcloud"
   ]
  },
  {
   "cell_type": "code",
   "execution_count": 2,
   "metadata": {},
   "outputs": [
    {
     "name": "stderr",
     "output_type": "stream",
     "text": [
      "2020-10-15 17:35:51 Med-PC13 metapub.config[24360] WARNING NCBI_API_KEY was not set.\n"
     ]
    }
   ],
   "source": [
    "from nltk import word_tokenize\n",
    "import numpy as np\n",
    "from metapub import PubMedFetcher\n",
    "\n",
    "from sklearn.cluster import KMeans\n",
    "from sklearn import datasets\n",
    "from wordcloud import WordCloud\n",
    "from collections import Counter \n",
    "from nltk.corpus import stopwords"
   ]
  },
  {
   "cell_type": "markdown",
   "metadata": {},
   "source": [
    "https://pypi.org/project/metapub/"
   ]
  },
  {
   "cell_type": "markdown",
   "metadata": {},
   "source": [
    "* try tf11d encoder\n",
    "* filter stop words and punctuation\n",
    "* cluster abstracts [done]\n",
    "* cluster using my own k-means algo [seperate blog post] [done]\n",
    "* find the most common words in the clusters and return the words [done]\n",
    "* visualise most common words of each cluster with word cloud [done]\n",
    "* create desktop application with electron [seperate blog post]"
   ]
  },
  {
   "cell_type": "markdown",
   "metadata": {},
   "source": [
    "n the clustering problem, we are given a training set ${x^{(1)}, ... , x^{(m)}}$, and want to group the data into a few cohesive \"clusters.\" Here, we are given feature vectors for each data point $x^{(i)} \\in \\mathbb{R}^n$ as usual; but no labels $y^{(i)}$ (making this an unsupervised learning problem). Our goal is to predict $k$ centroids and a label $c^{(i)}$ for each datapoint. The k-means clustering algorithm is as follows:"
   ]
  },
  {
   "cell_type": "code",
   "execution_count": 3,
   "metadata": {},
   "outputs": [],
   "source": [
    "data = datasets.load_iris()"
   ]
  },
  {
   "cell_type": "code",
   "execution_count": 4,
   "metadata": {},
   "outputs": [
    {
     "data": {
      "text/plain": [
       "array([0, 0, 0, 0, 0, 0, 0, 0, 0, 0, 0, 0, 0, 0, 0, 0, 0, 0, 0, 0, 0, 0,\n",
       "       0, 0, 0, 0, 0, 0, 0, 0, 0, 0, 0, 0, 0, 0, 0, 0, 0, 0, 0, 0, 0, 0,\n",
       "       0, 0, 0, 0, 0, 0, 1, 1, 1, 1, 1, 1, 1, 1, 1, 1, 1, 1, 1, 1, 1, 1,\n",
       "       1, 1, 1, 1, 1, 1, 1, 1, 1, 1, 1, 1, 1, 1, 1, 1, 1, 1, 1, 1, 1, 1,\n",
       "       1, 1, 1, 1, 1, 1, 1, 1, 1, 1, 1, 1, 2, 2, 2, 2, 2, 2, 2, 2, 2, 2,\n",
       "       2, 2, 2, 2, 2, 2, 2, 2, 2, 2, 2, 2, 2, 2, 2, 2, 2, 2, 2, 2, 2, 2,\n",
       "       2, 2, 2, 2, 2, 2, 2, 2, 2, 2, 2, 2, 2, 2, 2, 2, 2, 2])"
      ]
     },
     "execution_count": 4,
     "metadata": {},
     "output_type": "execute_result"
    }
   ],
   "source": [
    "data['target']"
   ]
  },
  {
   "cell_type": "code",
   "execution_count": 5,
   "metadata": {},
   "outputs": [
    {
     "data": {
      "text/plain": [
       "array([[5.1, 3.5, 1.4, 0.2],\n",
       "       [4.9, 3. , 1.4, 0.2],\n",
       "       [4.7, 3.2, 1.3, 0.2],\n",
       "       [4.6, 3.1, 1.5, 0.2],\n",
       "       [5. , 3.6, 1.4, 0.2],\n",
       "       [5.4, 3.9, 1.7, 0.4],\n",
       "       [4.6, 3.4, 1.4, 0.3],\n",
       "       [5. , 3.4, 1.5, 0.2],\n",
       "       [4.4, 2.9, 1.4, 0.2],\n",
       "       [4.9, 3.1, 1.5, 0.1],\n",
       "       [5.4, 3.7, 1.5, 0.2],\n",
       "       [4.8, 3.4, 1.6, 0.2],\n",
       "       [4.8, 3. , 1.4, 0.1],\n",
       "       [4.3, 3. , 1.1, 0.1],\n",
       "       [5.8, 4. , 1.2, 0.2],\n",
       "       [5.7, 4.4, 1.5, 0.4],\n",
       "       [5.4, 3.9, 1.3, 0.4],\n",
       "       [5.1, 3.5, 1.4, 0.3],\n",
       "       [5.7, 3.8, 1.7, 0.3],\n",
       "       [5.1, 3.8, 1.5, 0.3],\n",
       "       [5.4, 3.4, 1.7, 0.2],\n",
       "       [5.1, 3.7, 1.5, 0.4],\n",
       "       [4.6, 3.6, 1. , 0.2],\n",
       "       [5.1, 3.3, 1.7, 0.5],\n",
       "       [4.8, 3.4, 1.9, 0.2],\n",
       "       [5. , 3. , 1.6, 0.2],\n",
       "       [5. , 3.4, 1.6, 0.4],\n",
       "       [5.2, 3.5, 1.5, 0.2],\n",
       "       [5.2, 3.4, 1.4, 0.2],\n",
       "       [4.7, 3.2, 1.6, 0.2],\n",
       "       [4.8, 3.1, 1.6, 0.2],\n",
       "       [5.4, 3.4, 1.5, 0.4],\n",
       "       [5.2, 4.1, 1.5, 0.1],\n",
       "       [5.5, 4.2, 1.4, 0.2],\n",
       "       [4.9, 3.1, 1.5, 0.2],\n",
       "       [5. , 3.2, 1.2, 0.2],\n",
       "       [5.5, 3.5, 1.3, 0.2],\n",
       "       [4.9, 3.6, 1.4, 0.1],\n",
       "       [4.4, 3. , 1.3, 0.2],\n",
       "       [5.1, 3.4, 1.5, 0.2],\n",
       "       [5. , 3.5, 1.3, 0.3],\n",
       "       [4.5, 2.3, 1.3, 0.3],\n",
       "       [4.4, 3.2, 1.3, 0.2],\n",
       "       [5. , 3.5, 1.6, 0.6],\n",
       "       [5.1, 3.8, 1.9, 0.4],\n",
       "       [4.8, 3. , 1.4, 0.3],\n",
       "       [5.1, 3.8, 1.6, 0.2],\n",
       "       [4.6, 3.2, 1.4, 0.2],\n",
       "       [5.3, 3.7, 1.5, 0.2],\n",
       "       [5. , 3.3, 1.4, 0.2],\n",
       "       [7. , 3.2, 4.7, 1.4],\n",
       "       [6.4, 3.2, 4.5, 1.5],\n",
       "       [6.9, 3.1, 4.9, 1.5],\n",
       "       [5.5, 2.3, 4. , 1.3],\n",
       "       [6.5, 2.8, 4.6, 1.5],\n",
       "       [5.7, 2.8, 4.5, 1.3],\n",
       "       [6.3, 3.3, 4.7, 1.6],\n",
       "       [4.9, 2.4, 3.3, 1. ],\n",
       "       [6.6, 2.9, 4.6, 1.3],\n",
       "       [5.2, 2.7, 3.9, 1.4],\n",
       "       [5. , 2. , 3.5, 1. ],\n",
       "       [5.9, 3. , 4.2, 1.5],\n",
       "       [6. , 2.2, 4. , 1. ],\n",
       "       [6.1, 2.9, 4.7, 1.4],\n",
       "       [5.6, 2.9, 3.6, 1.3],\n",
       "       [6.7, 3.1, 4.4, 1.4],\n",
       "       [5.6, 3. , 4.5, 1.5],\n",
       "       [5.8, 2.7, 4.1, 1. ],\n",
       "       [6.2, 2.2, 4.5, 1.5],\n",
       "       [5.6, 2.5, 3.9, 1.1],\n",
       "       [5.9, 3.2, 4.8, 1.8],\n",
       "       [6.1, 2.8, 4. , 1.3],\n",
       "       [6.3, 2.5, 4.9, 1.5],\n",
       "       [6.1, 2.8, 4.7, 1.2],\n",
       "       [6.4, 2.9, 4.3, 1.3],\n",
       "       [6.6, 3. , 4.4, 1.4],\n",
       "       [6.8, 2.8, 4.8, 1.4],\n",
       "       [6.7, 3. , 5. , 1.7],\n",
       "       [6. , 2.9, 4.5, 1.5],\n",
       "       [5.7, 2.6, 3.5, 1. ],\n",
       "       [5.5, 2.4, 3.8, 1.1],\n",
       "       [5.5, 2.4, 3.7, 1. ],\n",
       "       [5.8, 2.7, 3.9, 1.2],\n",
       "       [6. , 2.7, 5.1, 1.6],\n",
       "       [5.4, 3. , 4.5, 1.5],\n",
       "       [6. , 3.4, 4.5, 1.6],\n",
       "       [6.7, 3.1, 4.7, 1.5],\n",
       "       [6.3, 2.3, 4.4, 1.3],\n",
       "       [5.6, 3. , 4.1, 1.3],\n",
       "       [5.5, 2.5, 4. , 1.3],\n",
       "       [5.5, 2.6, 4.4, 1.2],\n",
       "       [6.1, 3. , 4.6, 1.4],\n",
       "       [5.8, 2.6, 4. , 1.2],\n",
       "       [5. , 2.3, 3.3, 1. ],\n",
       "       [5.6, 2.7, 4.2, 1.3],\n",
       "       [5.7, 3. , 4.2, 1.2],\n",
       "       [5.7, 2.9, 4.2, 1.3],\n",
       "       [6.2, 2.9, 4.3, 1.3],\n",
       "       [5.1, 2.5, 3. , 1.1],\n",
       "       [5.7, 2.8, 4.1, 1.3],\n",
       "       [6.3, 3.3, 6. , 2.5],\n",
       "       [5.8, 2.7, 5.1, 1.9],\n",
       "       [7.1, 3. , 5.9, 2.1],\n",
       "       [6.3, 2.9, 5.6, 1.8],\n",
       "       [6.5, 3. , 5.8, 2.2],\n",
       "       [7.6, 3. , 6.6, 2.1],\n",
       "       [4.9, 2.5, 4.5, 1.7],\n",
       "       [7.3, 2.9, 6.3, 1.8],\n",
       "       [6.7, 2.5, 5.8, 1.8],\n",
       "       [7.2, 3.6, 6.1, 2.5],\n",
       "       [6.5, 3.2, 5.1, 2. ],\n",
       "       [6.4, 2.7, 5.3, 1.9],\n",
       "       [6.8, 3. , 5.5, 2.1],\n",
       "       [5.7, 2.5, 5. , 2. ],\n",
       "       [5.8, 2.8, 5.1, 2.4],\n",
       "       [6.4, 3.2, 5.3, 2.3],\n",
       "       [6.5, 3. , 5.5, 1.8],\n",
       "       [7.7, 3.8, 6.7, 2.2],\n",
       "       [7.7, 2.6, 6.9, 2.3],\n",
       "       [6. , 2.2, 5. , 1.5],\n",
       "       [6.9, 3.2, 5.7, 2.3],\n",
       "       [5.6, 2.8, 4.9, 2. ],\n",
       "       [7.7, 2.8, 6.7, 2. ],\n",
       "       [6.3, 2.7, 4.9, 1.8],\n",
       "       [6.7, 3.3, 5.7, 2.1],\n",
       "       [7.2, 3.2, 6. , 1.8],\n",
       "       [6.2, 2.8, 4.8, 1.8],\n",
       "       [6.1, 3. , 4.9, 1.8],\n",
       "       [6.4, 2.8, 5.6, 2.1],\n",
       "       [7.2, 3. , 5.8, 1.6],\n",
       "       [7.4, 2.8, 6.1, 1.9],\n",
       "       [7.9, 3.8, 6.4, 2. ],\n",
       "       [6.4, 2.8, 5.6, 2.2],\n",
       "       [6.3, 2.8, 5.1, 1.5],\n",
       "       [6.1, 2.6, 5.6, 1.4],\n",
       "       [7.7, 3. , 6.1, 2.3],\n",
       "       [6.3, 3.4, 5.6, 2.4],\n",
       "       [6.4, 3.1, 5.5, 1.8],\n",
       "       [6. , 3. , 4.8, 1.8],\n",
       "       [6.9, 3.1, 5.4, 2.1],\n",
       "       [6.7, 3.1, 5.6, 2.4],\n",
       "       [6.9, 3.1, 5.1, 2.3],\n",
       "       [5.8, 2.7, 5.1, 1.9],\n",
       "       [6.8, 3.2, 5.9, 2.3],\n",
       "       [6.7, 3.3, 5.7, 2.5],\n",
       "       [6.7, 3. , 5.2, 2.3],\n",
       "       [6.3, 2.5, 5. , 1.9],\n",
       "       [6.5, 3. , 5.2, 2. ],\n",
       "       [6.2, 3.4, 5.4, 2.3],\n",
       "       [5.9, 3. , 5.1, 1.8]])"
      ]
     },
     "execution_count": 5,
     "metadata": {},
     "output_type": "execute_result"
    }
   ],
   "source": [
    "data['data']"
   ]
  },
  {
   "cell_type": "code",
   "execution_count": 8,
   "metadata": {},
   "outputs": [],
   "source": [
    "class KMeans(object):\n",
    "\n",
    "    def __init__(self, number_of_clusters, number_iterations):\n",
    "        self.k = number_of_clusters\n",
    "        self.num_iter = number_iterations\n",
    "\n",
    "    def kmeans(self, data):\n",
    "        self.data = data\n",
    "\n",
    "        centroids = self.get_start_centroids()\n",
    "\n",
    "\n",
    "\n",
    "        for i in range(self.num_iter):\n",
    "                labels = self.getLabels(centroids)\n",
    "                centroids = self.getCentroids(labels)\n",
    "\n",
    "        self.centroids = centroids \n",
    "        self.labels = labels\n",
    "\n",
    "    def getLabels(self, centroids):\n",
    "        \n",
    "        '''\n",
    "        gets labels based on defined centroids\n",
    "        \n",
    "        Paramters\n",
    "        ---------\n",
    "        centroids : numpy array\n",
    "            shape (number of clusters, number of features) defines \n",
    "            location of centrods that classify datapoints\n",
    "            \n",
    "        Returns\n",
    "        -------\n",
    "        labels : numpy array\n",
    "            shape (number of observations, 1), contains predictions \n",
    "            for datapoints based on closest location to centroids\n",
    "        '''\n",
    "\n",
    "        distances = []\n",
    "\n",
    "        for row in range(centroids.shape[0]):\n",
    "            \n",
    "            centroid = centroids[row, :]\n",
    "            \n",
    "            dis = np.power(np.sum(np.power(self.data - centroid, 2), axis = 1), 0.5)\n",
    "            distances.append(dis)\n",
    "\n",
    "        out = np.vstack(distances)\n",
    "        labels = np.argmin(out, axis = 0)\n",
    "        \n",
    "        return(labels)\n",
    "\n",
    "    def getCentroids(self, labels):\n",
    "        \n",
    "        '''\n",
    "        get centroids based on new labels\n",
    "        \n",
    "        Parameters\n",
    "        ----------\n",
    "        labels : numpy array\n",
    "            shape (number of observations, 1), contains predictions \n",
    "            for datapoints based on closest location to centroids\n",
    "        \n",
    "        Returns\n",
    "        -------\n",
    "        centroids : numpy array\n",
    "            shape (number of clusters, number of features) defines \n",
    "            location of centrods that classify datapoints\n",
    "        '''\n",
    "\n",
    "\n",
    "        centroids = np.zeros(shape=(self.k, self.data.shape[1]))\n",
    "\n",
    "        for label in range(self.k):\n",
    "\n",
    "\n",
    "            centroids[label, :] = np.mean(self.data[labels == label, :], axis =0)\n",
    "            \n",
    "        try:    \n",
    "            #if there are nans because no observations are assigned to a given label then reinitialise centroid\n",
    "            centroids[np.isnan(centroids)] = np.mean(self.data, axis = 0)\n",
    "        except:\n",
    "            pass\n",
    "\n",
    "        return(centroids)\n",
    "    \n",
    "    def get_start_centroids(self):\n",
    "        \n",
    "        '''\n",
    "        generates random coordinates of centroids sampling from \n",
    "        normal distribution with same mean and standard \n",
    "        deviation as feature data\n",
    "        \n",
    "        parameters\n",
    "        ----------\n",
    "        None\n",
    "        \n",
    "        Returns\n",
    "        -------\n",
    "        starting : numpy array   \n",
    "            shape (number of clusters, number of features) defines \n",
    "            location of random centroids   \n",
    "            \n",
    "        '''\n",
    "        average = np.mean(self.data)\n",
    "        std = np.std(self.data)\n",
    "        \n",
    "        starting = np.zeros(shape = (self.k, self.data.shape[1]))\n",
    "        \n",
    "        for row in range(self.k):\n",
    "            \n",
    "            noise = np.random.normal(average, std, (1, self.data.shape[1]))\n",
    "            \n",
    "            starting[row, :] = noise\n",
    "            \n",
    "        return(starting)\n",
    "            \n",
    "            \n",
    "        "
   ]
  },
  {
   "cell_type": "code",
   "execution_count": 62,
   "metadata": {},
   "outputs": [],
   "source": [
    "\n",
    "class ClusterAbstract(object):\n",
    "    \n",
    "    def __init__(self):\n",
    " \n",
    "        self.stop_words = stopwords.words('english')\n",
    "    \n",
    "    def get(self, query, limit):\n",
    " \n",
    "        fetch = PubMedFetcher()\n",
    "        \n",
    "        self.IDs = fetch.pmids_for_query(query, retmax = limit)\n",
    "        \n",
    "        self.abstracts = []\n",
    "        self.titles = []\n",
    "        for c, i_d in enumerate(self.IDs):\n",
    "            \n",
    "            print(f'fetching {c}')\n",
    "            try:\n",
    "                article = fetch.article_by_pmid(i_d)\n",
    "\n",
    "            except:\n",
    "                print(f'id {i_d} doesnt exist')\n",
    "                continue\n",
    "            if article.abstract is not None:\n",
    "                self.abstracts.append(article.abstract)\n",
    "                self.titles.append(article.title)\n",
    "            else:\n",
    "                continue\n",
    "        \n",
    "    def count_tokens(self):\n",
    "\n",
    "        global_bow = {}\n",
    "        for abstract in self.tokens_data:\n",
    "            for token in abstract:\n",
    "                if token in list(global_bow.keys()):\n",
    "                    global_bow[token] +=1\n",
    "                else: \n",
    "                    global_bow[token] = 1\n",
    "        self.global_bow = global_bow\n",
    "\n",
    "    \n",
    "    def __encode(self, tokenized):\n",
    "        feature = np.array([])\n",
    "        for key, value in self.global_bow.items():\n",
    "            if key in tokenized:\n",
    "                feature = np.append(feature, value)\n",
    "            else:\n",
    "                feature = np.append(feature, 0)\n",
    "\n",
    "        return(feature)\n",
    "\n",
    "    def process_data(self):\n",
    "        self.abstracts = [c for c in self.abstracts if c != None]\n",
    "        \n",
    "        tokens_data = []\n",
    "        for abstract in self.abstracts:\n",
    "            tokens = word_tokenize(abstract)\n",
    "            tokens = [c.lower() for c in tokens if c not in self.stop_words and c.isalpha()]\n",
    "            tokens_data.append(tokens)\n",
    "        \n",
    "        self.tokens_data = tokens_data\n",
    "        \n",
    "    def encode_data(self):\n",
    "        self.count_tokens()\n",
    "        self.encodings = []\n",
    "        for bow in self.tokens_data:\n",
    "            self.encodings.append(self.__encode(bow))\n",
    "        self.encodings = np.vstack(self.encodings)\n",
    "\n",
    "        \n",
    "    def get_cluster_enriched_words(self):\n",
    "\n",
    "        pass\n",
    "   \n",
    "    def cluster_data(self, number_clusters):\n",
    "        \n",
    "        clusters = list(range(number_clusters))\n",
    "        \n",
    "        self.model = KMeans(number_clusters, 10000)\n",
    "\n",
    "        self.model.kmeans(self.encodings)\n",
    "        \n",
    "   \n",
    "    def generate_word_clouds(self):\n",
    "        self.word_clouds = []\n",
    "        \n",
    "        for i in self.most_frequent:\n",
    "            wordcloud = WordCloud()\n",
    "      \n",
    "            self.word_clouds.append(wordcloud.generate(' '.join(i)))\n",
    " \n",
    "\n",
    "    def analyse_clusters(self):\n",
    "        \n",
    "        self.most_frequent = []\n",
    "     \n",
    "        \n",
    "        for label in set(self.model.labels):\n",
    "            \n",
    "            #how do I filter a list with list of booleans\n",
    "            data = [self.tokens_data[i] for i in range(len(self.tokens_data)) if self.model.labels[i] == label]\n",
    "            print(f'len data {len(data)}')\n",
    "            \n",
    "          \n",
    "            \n",
    "            all_words_for_label = []\n",
    "            for observation in data:\n",
    "\n",
    "                all_words_for_label.extend(observation)\n",
    "\n",
    "\n",
    "            mf = self.get_frequent_words(all_words_for_label, 10)\n",
    "            \n",
    "            self.most_frequent.append(mf)\n",
    "    \n",
    "    def get_frequent_words(self, List, top_n): \n",
    "        \n",
    "        occurence_count = Counter(List) \n",
    "        ans = occurence_count.most_common(top_n)\n",
    "        ans = [c[0] for c in ans]\n",
    "\n",
    "        return(ans)\n",
    "  \n",
    "\n",
    "            \n",
    "            \n",
    "            \n"
   ]
  },
  {
   "cell_type": "code",
   "execution_count": 93,
   "metadata": {},
   "outputs": [
    {
     "name": "stdout",
     "output_type": "stream",
     "text": [
      "fetching 0\n",
      "fetching 1\n",
      "fetching 2\n",
      "fetching 3\n",
      "fetching 4\n",
      "fetching 5\n",
      "fetching 6\n",
      "fetching 7\n",
      "fetching 8\n",
      "fetching 9\n",
      "fetching 10\n",
      "fetching 11\n",
      "fetching 12\n",
      "fetching 13\n",
      "fetching 14\n",
      "fetching 15\n",
      "fetching 16\n",
      "fetching 17\n",
      "fetching 18\n",
      "fetching 19\n",
      "fetching 20\n",
      "fetching 21\n",
      "fetching 22\n",
      "fetching 23\n",
      "fetching 24\n",
      "fetching 25\n",
      "fetching 26\n",
      "fetching 27\n",
      "fetching 28\n",
      "fetching 29\n"
     ]
    }
   ],
   "source": [
    "test = ClusterAbstract()\n",
    "\n",
    "test.get('sex', '30')"
   ]
  },
  {
   "cell_type": "code",
   "execution_count": 94,
   "metadata": {},
   "outputs": [],
   "source": [
    "test.process_data()"
   ]
  },
  {
   "cell_type": "code",
   "execution_count": 95,
   "metadata": {},
   "outputs": [],
   "source": [
    "test.encode_data()"
   ]
  },
  {
   "cell_type": "code",
   "execution_count": 96,
   "metadata": {},
   "outputs": [
    {
     "name": "stderr",
     "output_type": "stream",
     "text": [
      "C:\\Users\\rmorse\\Anaconda3\\lib\\site-packages\\numpy\\core\\fromnumeric.py:3335: RuntimeWarning: Mean of empty slice.\n",
      "  out=out, **kwargs)\n",
      "C:\\Users\\rmorse\\Anaconda3\\lib\\site-packages\\numpy\\core\\_methods.py:154: RuntimeWarning: invalid value encountered in true_divide\n",
      "  ret, rcount, out=ret, casting='unsafe', subok=False)\n"
     ]
    }
   ],
   "source": [
    "test.cluster_data(5)"
   ]
  },
  {
   "cell_type": "code",
   "execution_count": 97,
   "metadata": {},
   "outputs": [
    {
     "data": {
      "text/plain": [
       "array([1, 0, 0, 4, 4, 1, 3, 4, 1, 2, 1, 0, 4, 4, 3, 3, 3, 4, 4, 1, 1, 4,\n",
       "       1, 1, 4, 1, 1, 4], dtype=int64)"
      ]
     },
     "execution_count": 97,
     "metadata": {},
     "output_type": "execute_result"
    }
   ],
   "source": [
    "test.model.labels"
   ]
  },
  {
   "cell_type": "code",
   "execution_count": 98,
   "metadata": {},
   "outputs": [
    {
     "name": "stdout",
     "output_type": "stream",
     "text": [
      "len data 3\n",
      "len data 10\n",
      "len data 1\n",
      "len data 4\n",
      "len data 10\n"
     ]
    }
   ],
   "source": [
    "#next I run this and shoul dgenerate a list of most common words for each cluster\n",
    "#needs to analyse text that has been filtered for stop words etc\n",
    "#analyse on self.tokens_data\n",
    "test.analyse_clusters()"
   ]
  },
  {
   "cell_type": "code",
   "execution_count": 99,
   "metadata": {
    "collapsed": true,
    "jupyter": {
     "outputs_hidden": true
    }
   },
   "outputs": [
    {
     "data": {
      "text/plain": [
       "[['hip',\n",
       "  'frontal',\n",
       "  'dynamic',\n",
       "  'joint',\n",
       "  'stiffness',\n",
       "  'dicer',\n",
       "  'serum',\n",
       "  'patients',\n",
       "  'p',\n",
       "  'exosomal'],\n",
       " ['health',\n",
       "  'p',\n",
       "  'ci',\n",
       "  'conditions',\n",
       "  'among',\n",
       "  'years',\n",
       "  'quality',\n",
       "  'we',\n",
       "  'sleep',\n",
       "  'children'],\n",
       " ['vasospasm',\n",
       "  'asah',\n",
       "  'or',\n",
       "  'risk',\n",
       "  'factors',\n",
       "  'cerebral',\n",
       "  'associated',\n",
       "  'p',\n",
       "  'identify',\n",
       "  'age'],\n",
       " ['light',\n",
       "  'individual',\n",
       "  'circadian',\n",
       "  'differences',\n",
       "  'sleep',\n",
       "  'mitochondrial',\n",
       "  'effects',\n",
       "  'air',\n",
       "  'ra',\n",
       "  'this'],\n",
       " ['sex',\n",
       "  'stiffness',\n",
       "  'clinical',\n",
       "  'renal',\n",
       "  'clearance',\n",
       "  'low',\n",
       "  'education',\n",
       "  'ci',\n",
       "  'augmented',\n",
       "  'icu']]"
      ]
     },
     "execution_count": 99,
     "metadata": {},
     "output_type": "execute_result"
    }
   ],
   "source": [
    "test.most_frequent"
   ]
  },
  {
   "cell_type": "code",
   "execution_count": 78,
   "metadata": {},
   "outputs": [],
   "source": [
    "import matplotlib.pyplot as plt"
   ]
  },
  {
   "cell_type": "code",
   "execution_count": 100,
   "metadata": {},
   "outputs": [
    {
     "name": "stdout",
     "output_type": "stream",
     "text": [
      "['hip', 'frontal', 'dynamic', 'joint', 'stiffness', 'dicer', 'serum', 'patients', 'p', 'exosomal']\n",
      "['health', 'p', 'ci', 'conditions', 'among', 'years', 'quality', 'we', 'sleep', 'children']\n",
      "['vasospasm', 'asah', 'or', 'risk', 'factors', 'cerebral', 'associated', 'p', 'identify', 'age']\n",
      "['light', 'individual', 'circadian', 'differences', 'sleep', 'mitochondrial', 'effects', 'air', 'ra', 'this']\n",
      "['sex', 'stiffness', 'clinical', 'renal', 'clearance', 'low', 'education', 'ci', 'augmented', 'icu']\n"
     ]
    }
   ],
   "source": [
    "test.generate_word_clouds()"
   ]
  },
  {
   "cell_type": "code",
   "execution_count": 101,
   "metadata": {},
   "outputs": [
    {
     "data": {
      "text/plain": [
       "<matplotlib.image.AxesImage at 0x2360977ffc8>"
      ]
     },
     "execution_count": 101,
     "metadata": {},
     "output_type": "execute_result"
    },
    {
     "data": {
      "image/png": "[encoded data removed]",
      "text/plain": [
       "<Figure size 432x288 with 1 Axes>"
      ]
     },
     "metadata": {
      "needs_background": "light"
     },
     "output_type": "display_data"
    }
   ],
   "source": [
    "plt.imshow(test.word_clouds[0])"
   ]
  },
  {
   "cell_type": "code",
   "execution_count": 102,
   "metadata": {},
   "outputs": [
    {
     "data": {
      "text/plain": [
       "<matplotlib.image.AxesImage at 0x2360a7cc088>"
      ]
     },
     "execution_count": 102,
     "metadata": {},
     "output_type": "execute_result"
    },
    {
     "data": {
      "image/png": "[encoded data removed]",
      "text/plain": [
       "<Figure size 432x288 with 1 Axes>"
      ]
     },
     "metadata": {
      "needs_background": "light"
     },
     "output_type": "display_data"
    }
   ],
   "source": [
    "plt.imshow(test.word_clouds[1])"
   ]
  },
  {
   "cell_type": "code",
   "execution_count": 103,
   "metadata": {},
   "outputs": [
    {
     "data": {
      "text/plain": [
       "<matplotlib.image.AxesImage at 0x2360a834908>"
      ]
     },
     "execution_count": 103,
     "metadata": {},
     "output_type": "execute_result"
    },
    {
     "data": {
      "image/png": "[encoded data removed]",
      "text/plain": [
       "<Figure size 432x288 with 1 Axes>"
      ]
     },
     "metadata": {
      "needs_background": "light"
     },
     "output_type": "display_data"
    }
   ],
   "source": [
    "plt.imshow(test.word_clouds[2])"
   ]
  },
  {
   "cell_type": "code",
   "execution_count": 105,
   "metadata": {},
   "outputs": [
    {
     "data": {
      "text/plain": [
       "<matplotlib.image.AxesImage at 0x2360a915308>"
      ]
     },
     "execution_count": 105,
     "metadata": {},
     "output_type": "execute_result"
    },
    {
     "data": {
      "image/png": "[encoded data removed]",
      "text/plain": [
       "<Figure size 432x288 with 1 Axes>"
      ]
     },
     "metadata": {
      "needs_background": "light"
     },
     "output_type": "display_data"
    }
   ],
   "source": [
    "plt.imshow(test.word_clouds[3])"
   ]
  },
  {
   "cell_type": "code",
   "execution_count": 106,
   "metadata": {},
   "outputs": [
    {
     "data": {
      "text/plain": [
       "<matplotlib.image.AxesImage at 0x2360a97f388>"
      ]
     },
     "execution_count": 106,
     "metadata": {},
     "output_type": "execute_result"
    },
    {
     "data": {
      "image/png": "[encoded data removed]",
      "text/plain": [
       "<Figure size 432x288 with 1 Axes>"
      ]
     },
     "metadata": {
      "needs_background": "light"
     },
     "output_type": "display_data"
    }
   ],
   "source": [
    "plt.imshow(test.word_clouds[4])"
   ]
  }
 ],
 "metadata": {
  "kernelspec": {
   "display_name": "Python 3",
   "language": "python",
   "name": "python3"
  },
  "language_info": {
   "codemirror_mode": {
    "name": "ipython",
    "version": 3
   },
   "file_extension": ".py",
   "mimetype": "text/x-python",
   "name": "python",
   "nbconvert_exporter": "python",
   "pygments_lexer": "ipython3",
   "version": "3.7.6"
  }
 },
 "nbformat": 4,
 "nbformat_minor": 4
}
